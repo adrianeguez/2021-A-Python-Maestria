{
 "cells": [
  {
   "cell_type": "code",
   "execution_count": 1,
   "metadata": {},
   "outputs": [
    {
     "name": "stdout",
     "output_type": "stream",
     "text": [
      "Hola :) \n"
     ]
    }
   ],
   "source": [
    "# c_funciones\n",
    "def imprimir_hola():\n",
    "    print(\"Hola :) \")\n",
    "imprimir_hola()"
   ]
  },
  {
   "cell_type": "code",
   "execution_count": 2,
   "metadata": {},
   "outputs": [
    {
     "name": "stdout",
     "output_type": "stream",
     "text": [
      "Mi nombre: Adrian\n"
     ]
    }
   ],
   "source": [
    "# Con parametros, no Devuelve nada\n",
    "def imprimir_nombre(nombre):\n",
    "    print(f\"Mi nombre: {nombre}\")\n",
    "imprimir_nombre(\"Adrian\")"
   ]
  },
  {
   "cell_type": "code",
   "execution_count": 3,
   "metadata": {},
   "outputs": [
    {
     "data": {
      "text/plain": [
       "3"
      ]
     },
     "execution_count": 3,
     "metadata": {},
     "output_type": "execute_result"
    }
   ],
   "source": [
    "def suma_dos_numeros(num_uno, num_dos):\n",
    "    resultado = num_uno + num_dos\n",
    "    return resultado\n",
    "suma_dos_numeros(1,2)"
   ]
  },
  {
   "cell_type": "code",
   "execution_count": 4,
   "metadata": {},
   "outputs": [
    {
     "name": "stdout",
     "output_type": "stream",
     "text": [
      "Azul\n",
      "pik-2112\n",
      "2000\n",
      "Hyundai\n"
     ]
    }
   ],
   "source": [
    "def imprimir_carro(color, placa, anio, marca):\n",
    "    print(color)\n",
    "    print(placa)\n",
    "    print(anio)\n",
    "    print(marca)\n",
    "imprimir_carro(\"Azul\", \"pik-2112\", 2000, \"Hyundai\")"
   ]
  },
  {
   "cell_type": "code",
   "execution_count": 5,
   "metadata": {},
   "outputs": [
    {
     "name": "stdout",
     "output_type": "stream",
     "text": [
      "Rojo\n",
      "mxn-2918\n",
      "1992\n",
      "Ford\n"
     ]
    }
   ],
   "source": [
    "imprimir_carro(\n",
    "    placa = \"mxn-2918\",\n",
    "    marca = \"Ford\",\n",
    "    anio = 1992,\n",
    "    color = \"Rojo\"\n",
    ")\n",
    "# imprimir_carro(\"Blanco\", \"wls-123\", marca = \"Lada\", anio = 1234)"
   ]
  },
  {
   "cell_type": "code",
   "execution_count": 7,
   "metadata": {},
   "outputs": [
    {
     "name": "stdout",
     "output_type": "stream",
     "text": [
      "Universidad EPN\n",
      "Universidad ESPE\n"
     ]
    }
   ],
   "source": [
    "# Parametros por defecto\n",
    "def imprimir_universidad(universidad = \"EPN\"):\n",
    "    print(f\"Universidad {universidad}\")\n",
    "imprimir_universidad()\n",
    "imprimir_universidad(\"ESPE\")"
   ]
  },
  {
   "cell_type": "code",
   "execution_count": 9,
   "metadata": {},
   "outputs": [
    {
     "name": "stdout",
     "output_type": "stream",
     "text": [
      "<class 'tuple'>\n"
     ]
    },
    {
     "data": {
      "text/plain": [
       "10"
      ]
     },
     "execution_count": 9,
     "metadata": {},
     "output_type": "execute_result"
    }
   ],
   "source": [
    "# Parametros infinitos\n",
    "def sumar_numeros(num_uno, *numeros_restantes):\n",
    "    print(type(numeros_restantes))\n",
    "    resultado = num_uno\n",
    "    for numero in numeros_restantes:\n",
    "        resultado = resultado + numero\n",
    "    return resultado\n",
    "sumar_numeros(1,2,3,4)"
   ]
  },
  {
   "cell_type": "code",
   "execution_count": 12,
   "metadata": {},
   "outputs": [
    {
     "name": "stdout",
     "output_type": "stream",
     "text": [
      "<class 'dict'>\n",
      "{'ip': '192.168.10.2', 'puerto': 3000}\n",
      "dict_keys(['ip', 'puerto'])\n",
      "dict_values(['192.168.10.2', 3000])\n"
     ]
    }
   ],
   "source": [
    "# Key Word Arguments\n",
    "def imprimir_configuracion(**kwargs):\n",
    "    print(type(kwargs))\n",
    "    print(kwargs)\n",
    "    print(kwargs.keys())\n",
    "    print(kwargs.values())\n",
    "imprimir_configuracion(ip = \"192.168.10.2\", puerto = 3000)"
   ]
  },
  {
   "cell_type": "code",
   "execution_count": null,
   "metadata": {},
   "outputs": [],
   "source": [
    "\"\"\"\n",
    "1) Parametros Requeridos\n",
    "2) Parametros Opcionales (Defecto)\n",
    "3) Parametros Infinitos\n",
    "4) Parametros kwargs\n",
    "\"\"\""
   ]
  },
  {
   "cell_type": "code",
   "execution_count": 15,
   "metadata": {},
   "outputs": [
    {
     "data": {
      "text/plain": [
       "15"
      ]
     },
     "execution_count": 15,
     "metadata": {},
     "output_type": "execute_result"
    }
   ],
   "source": [
    "# Funciones lambda o corta\n",
    "elevador_al_cuadrado = lambda x: x ** 2\n",
    "elevador_al_cuadrado(5)\n",
    "sumar = lambda x, y: x + y\n",
    "sumar_cinco = lambda x: x + 5\n",
    "sumar_cinco(10)"
   ]
  },
  {
   "cell_type": "code",
   "execution_count": 25,
   "metadata": {},
   "outputs": [],
   "source": [
    "def crear_archivo(path, contenido):\n",
    "    try:\n",
    "        archivo_abierto = open(path, \"a\") # \n",
    "        archivo_abierto.write(f\"\\n {contenido}\")\n",
    "        archivo_abierto.close()\n",
    "    except:\n",
    "        print(error)\n",
    "        print(\"=( Hubo error\")\n",
    "path = \"./03_ejemplo.txt\"\n",
    "contenido = \"Mi primer archivo en Python :3\"\n",
    "crear_archivo(path,contenido)"
   ]
  },
  {
   "cell_type": "code",
   "execution_count": 26,
   "metadata": {},
   "outputs": [
    {
     "name": "stdout",
     "output_type": "stream",
     "text": [
      "\n",
      "\n",
      " Mi primer archivo en Python :3\n",
      "\n",
      " Mi primer archivo en Python :3\n",
      "\n",
      " Mi primer archivo en Python :3\n",
      "\n",
      " Mi primer archivo en Python :3\n"
     ]
    }
   ],
   "source": [
    "def leer_archivo(path):\n",
    "    try:\n",
    "        archivo_abierto = open(path, \"r\")\n",
    "        lineas = archivo_abierto.readlines()\n",
    "        for linea in lineas:\n",
    "            print(linea)\n",
    "        archivo_abierto.close()\n",
    "    except:\n",
    "        print(error)\n",
    "        print(\":( no pude leer\")\n",
    "path = \"./03_ejemplo.txt\"\n",
    "leer_archivo(path)"
   ]
  },
  {
   "cell_type": "code",
   "execution_count": null,
   "metadata": {},
   "outputs": [],
   "source": []
  },
  {
   "cell_type": "code",
   "execution_count": null,
   "metadata": {},
   "outputs": [],
   "source": []
  },
  {
   "cell_type": "code",
   "execution_count": null,
   "metadata": {},
   "outputs": [],
   "source": []
  },
  {
   "cell_type": "code",
   "execution_count": null,
   "metadata": {},
   "outputs": [],
   "source": []
  },
  {
   "cell_type": "code",
   "execution_count": null,
   "metadata": {},
   "outputs": [],
   "source": []
  },
  {
   "cell_type": "code",
   "execution_count": null,
   "metadata": {},
   "outputs": [],
   "source": []
  },
  {
   "cell_type": "code",
   "execution_count": null,
   "metadata": {},
   "outputs": [],
   "source": []
  },
  {
   "cell_type": "code",
   "execution_count": null,
   "metadata": {},
   "outputs": [],
   "source": []
  },
  {
   "cell_type": "code",
   "execution_count": null,
   "metadata": {},
   "outputs": [],
   "source": []
  },
  {
   "cell_type": "code",
   "execution_count": null,
   "metadata": {},
   "outputs": [],
   "source": []
  }
 ],
 "metadata": {
  "kernelspec": {
   "display_name": "Python 3",
   "language": "python",
   "name": "python3"
  },
  "language_info": {
   "codemirror_mode": {
    "name": "ipython",
    "version": 3
   },
   "file_extension": ".py",
   "mimetype": "text/x-python",
   "name": "python",
   "nbconvert_exporter": "python",
   "pygments_lexer": "ipython3",
   "version": "3.7.6"
  }
 },
 "nbformat": 4,
 "nbformat_minor": 4
}
